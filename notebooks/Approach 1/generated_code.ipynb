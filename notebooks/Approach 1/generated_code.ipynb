{
 "cells": [
  {
   "cell_type": "code",
   "execution_count": null,
   "metadata": {},
   "outputs": [],
   "source": [
    "import pandas as pd\n",
    "\n",
    "# Assuming you load your data into dataframes df1 (from Table 1) and df2 (from Table 2)\n",
    "df1 = pd.read_csv('../task/table_A.csv')\n",
    "df2 = pd.read_csv('../task/table_B.csv')\n",
    "\n",
    "# Convert dates to the desired format\n",
    "df1['Date_of_Policy'] = pd.to_datetime(df1['Date_of_Policy'], format='%d/%m/%Y')\n",
    "df1['Date_of_Policy'] = df1['Date_of_Policy'].dt.strftime('%d.%m.%Y')\n",
    "\n",
    "df2['PolicyDate'] = pd.to_datetime(df2['PolicyDate'])\n",
    "df2['PolicyDate'] = df2['PolicyDate'].dt.strftime('%d.%m.%Y')\n",
    "\n",
    "# Rename columns in df1\n",
    "df1 = df1.rename(columns={\n",
    "    'Date_of_Policy': 'Date',\n",
    "    'FullName': 'EmployeeName',\n",
    "    'Insurance_Plan': 'Plan',\n",
    "    'Policy_No': 'PolicyNumber',\n",
    "    'Monthly_Premium': 'Premium'\n",
    "})\n",
    "\n",
    "# Rename columns in df2\n",
    "df2 = df2.rename(columns={\n",
    "    'PolicyDate': 'Date',\n",
    "    'Employee_Name': 'EmployeeName',\n",
    "    'Plan_Name': 'Plan',\n",
    "    'Policy_ID': 'PolicyNumber',\n",
    "    'PremiumAmount': 'Premium'\n",
    "})\n",
    "\n",
    "# Concatenate the dataframes\n",
    "final_df = pd.concat([df1[['Date', 'EmployeeName', 'Plan', 'PolicyNumber', 'Premium']], \n",
    "                     df2[['Date', 'EmployeeName', 'Plan', 'PolicyNumber', 'Premium']]])\n",
    "\n",
    "# Save to a new CSV\n",
    "final_df.to_csv('final_table.csv', index=False)\n",
    "\n",
    "# Uncomment the lines with read_csv and to_csv, and provide the appropriate paths if you're using actual files.\n"
   ]
  }
 ],
 "metadata": {
  "kernelspec": {
   "display_name": "zero",
   "language": "python",
   "name": "python3"
  },
  "language_info": {
   "name": "python",
   "version": "3.10.13"
  },
  "orig_nbformat": 4
 },
 "nbformat": 4,
 "nbformat_minor": 2
}
