{
 "cells": [
  {
   "cell_type": "code",
   "execution_count": 2,
   "metadata": {},
   "outputs": [
    {
     "name": "stdout",
     "output_type": "stream",
     "text": [
      "Desired table saved as 'DesiredTable.csv'\n"
     ]
    }
   ],
   "source": [
    "import pandas as pd\n",
    "\n",
    "# Load the tables\n",
    "table1 = pd.read_csv('../../task/Table_A.csv')\n",
    "table2 = pd.read_csv('../../task/Table_B.csv')\n",
    "\n",
    "# Step 1: Create mapping for the columns\n",
    "# The structure is: {\"Desired_Column\": [\"Table1_Column\", \"Table2_Column\"]}\n",
    "mapping = {\n",
    "    \"Date\": [\"Date_of_Policy\", \"PolicyDate\"],\n",
    "    \"EmployeeName\": [\"FullName\", \"Employee_Name\"],\n",
    "    \"Plan\": [\"Insurance_Plan\", \"PlanType\"],\n",
    "    \"PolicyNumber\": [\"Policy_No\", \"Policy_ID\"],\n",
    "    \"Premium\": [\"Monthly_Premium\", \"PremiumAmount\"]\n",
    "}\n",
    "\n",
    "# Step 2: Filter out the redundant columns and map to desired schema\n",
    "def map_to_desired_schema(table, mapping):\n",
    "    new_table = pd.DataFrame()\n",
    "    for desired_col, possible_cols in mapping.items():\n",
    "        for col in possible_cols:\n",
    "            if col in table.columns:\n",
    "                new_table[desired_col] = table[col]\n",
    "                break\n",
    "    return new_table\n",
    "\n",
    "mapped_table1 = map_to_desired_schema(table1, mapping)\n",
    "mapped_table2 = map_to_desired_schema(table2, mapping)\n",
    "\n",
    "# Step 3: Convert date format to 'mm.dd.yyyy'\n",
    "def convert_date_format(table):\n",
    "    table[\"Date\"] = pd.to_datetime(table[\"Date\"]).dt.strftime('%m.%d.%Y')\n",
    "    return table\n",
    "\n",
    "mapped_table1 = convert_date_format(mapped_table1)\n",
    "mapped_table2 = convert_date_format(mapped_table2)\n",
    "\n",
    "# Combine the mapped tables\n",
    "final_table = pd.concat([mapped_table1, mapped_table2], ignore_index=True)\n",
    "\n",
    "# Step 4: Save the resultant table\n",
    "final_table.to_csv('DesiredTable.csv', index=False)\n",
    "print(\"Desired table saved as 'DesiredTable.csv'\")\n",
    "\n"
   ]
  }
 ],
 "metadata": {
  "kernelspec": {
   "display_name": "zero",
   "language": "python",
   "name": "python3"
  },
  "language_info": {
   "codemirror_mode": {
    "name": "ipython",
    "version": 3
   },
   "file_extension": ".py",
   "mimetype": "text/x-python",
   "name": "python",
   "nbconvert_exporter": "python",
   "pygments_lexer": "ipython3",
   "version": "3.10.13"
  },
  "orig_nbformat": 4
 },
 "nbformat": 4,
 "nbformat_minor": 2
}
