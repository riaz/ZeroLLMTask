{
 "cells": [
  {
   "cell_type": "markdown",
   "metadata": {},
   "source": [
    "### Prompt 1"
   ]
  },
  {
   "cell_type": "markdown",
   "metadata": {},
   "source": [
    "You are an expert in re-conciling tables into a desired schema. \n",
    "These tables have columns with meaningful descriptions and some columns may be redundant.\n",
    "We will filter out redundant column names in a table before me map it to the desired schema\n",
    "We want the desired table to have date in the following format: mm.dd.yyyy\n",
    "\n",
    "Given the names of columns of Table 1 and Table 2, I would want to map the best matched column values\n",
    "based on their semantic meaning to the desired schema.\n",
    "\n",
    "I want you to return me a code in python that does the above steps and saves the desired table in the desired schema.\n",
    "\n",
    "Table 1 Columns\n",
    "Date_of_Policy,FullName,Insurance_Plan,Policy_No,Monthly_Premium,Department,JobTitle,Policy_Start,Full_Name,Insurance_Type,Policy_Num,Monthly_Cost\n",
    "\n",
    "Table 2 Columns\n",
    "PolicyDate,Name,PlanType,Policy_ID,PremiumAmount,Hobby,MaritalStatus,StartDate,Employee_Name,Plan_Name,PolicyID,Cost\n",
    "\n",
    "Desired Table Columns\n",
    "Date,EmployeeName,Plan,PolicyNumber,Premium\n",
    "\n"
   ]
  }
 ],
 "metadata": {
  "language_info": {
   "name": "python"
  },
  "orig_nbformat": 4
 },
 "nbformat": 4,
 "nbformat_minor": 2
}
